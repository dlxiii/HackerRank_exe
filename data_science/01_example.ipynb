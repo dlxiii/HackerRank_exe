{
 "cells": [
  {
   "cell_type": "markdown",
   "metadata": {},
   "source": [
    "## Libraries"
   ]
  },
  {
   "cell_type": "code",
   "execution_count": 2,
   "metadata": {},
   "outputs": [],
   "source": [
    "%matplotlib inline\n",
    "\n",
    "import pandas as pd\n",
    "import numpy as np\n",
    "import seaborn as sns\n",
    "import matplotlib.pyplot as plt\n",
    "\n",
    "from sklearn.preprocessing import LabelEncoder, OneHotEncoder, OrdinalEncoder\n",
    "from sklearn.impute import SimpleImputer\n",
    "from sklearn.model_selection import train_test_split, cross_val_score\n",
    "from sklearn.ensemble import RandomForestRegressor\n",
    "from sklearn.metrics import mean_absolute_error, r2_score\n",
    "\n",
    "pd.set_option(\"display.max_columns\", 144)"
   ]
  },
  {
   "cell_type": "markdown",
   "metadata": {},
   "source": [
    "## Data Description\n",
    "\n",
    "Useful tool\n",
    "\n",
    "* https://translate.google.cn/\n",
    "* https://www.tablesgenerator.com/markdown_tables"
   ]
  },
  {
   "cell_type": "markdown",
   "metadata": {},
   "source": [
    "| Column \t| Description \t| Translation \t|\n",
    "|:--\t|:--\t|:--\t|\n",
    "| `surface_area` \t| The total area in square kilometers \t| 总面积，平方公里 \t|\n",
    "| `agricultural_land` \t| The agricultural land of the total area in square kilometers \t| 总农业用地面积，平方公里 \t|\n",
    "| `forest_area` \t| The forest area in the total area in square kilometers \t| 总森林用地面积，平方公理 \t|\n",
    "| `armed_forces_total` \t| The count of armed forces paid by this geographical area \t| 区域的武装部队人数（治安力量？） \t|\n",
    "| `urban_pop_major_cities` \t| The percent of the total population dwelling in major cities \t| 主要城市居住人口占总人口的百分比 \t|\n",
    "| `urban_pop_minor_cities` \t| The percent of the total population dwelling in minor cities \t| 居住在小城市的总人口百分比 \t|\n",
    "| `national_income` \t| National Income as an ordinal categorical variable \t| 国民收入（分类变量） \t|\n",
    "| `inflation_annual` \t| Yearly Inflation Rate \t| 年通胀率 \t|\n",
    "| `inflation_monthly` \t| Average Monthly Inflation Rate = annual inflation/12 \t| 月通胀率 \t|\n",
    "| `inflation_weekly` \t| Average Weekly Inflation Rate = annual inflation/52 \t| 周通胀率 \t|\n",
    "| `mobile_subscriptions` \t| Describes the number of mobile subscriptions per person \t| 手机注册率 \t|\n",
    "| `internet_users` \t| The average number of people using the internet in a range of 100 or 1000 people \t| 网络用户（不同单位） \t|\n",
    "| `secure_internet_servers_total` \t| The actual number of secure internet servers in the area \t| 安全网络数量 \t|\n",
    "| `improved_sanitation` \t| The known access of the population to improved sanitation facilities \t| 人口获得改善的卫生设施机会 \t|\n",
    "| `women_parliament_seats_rate ` \t| Describes the percent range of parliament seats occupied by women \t| 女性议会席位百分比 \t|\n",
    "| `life_expectancy` \t| Years of life an average person is expected to live in this area (target variable). \t| 目标值：预期年龄 \t|"
   ]
  },
  {
   "cell_type": "markdown",
   "metadata": {},
   "source": [
    "**note1: agricultural and forest land may be converted to retio rate, a cooralation may be necessary**\n",
    "\n",
    "**note2: inflation rate in different unit may convert to annual value**"
   ]
  },
  {
   "cell_type": "markdown",
   "metadata": {},
   "source": [
    "## Data Acquisition"
   ]
  },
  {
   "cell_type": "code",
   "execution_count": 3,
   "metadata": {},
   "outputs": [],
   "source": [
    "# load file, index_col set\n",
    "# if missing values are not standard, us missing_value=['n/a','na','--'],na_values=missing_values when load csv\n",
    "df = pd.read_csv('train.csv',index_col=0)"
   ]
  },
  {
   "cell_type": "code",
   "execution_count": 4,
   "metadata": {},
   "outputs": [
    {
     "data": {
      "text/html": [
       "<div>\n",
       "<style scoped>\n",
       "    .dataframe tbody tr th:only-of-type {\n",
       "        vertical-align: middle;\n",
       "    }\n",
       "\n",
       "    .dataframe tbody tr th {\n",
       "        vertical-align: top;\n",
       "    }\n",
       "\n",
       "    .dataframe thead th {\n",
       "        text-align: right;\n",
       "    }\n",
       "</style>\n",
       "<table border=\"1\" class=\"dataframe\">\n",
       "  <thead>\n",
       "    <tr style=\"text-align: right;\">\n",
       "      <th></th>\n",
       "      <th>surface_area</th>\n",
       "      <th>agricultural_land</th>\n",
       "      <th>forest_area</th>\n",
       "      <th>armed_forces_total</th>\n",
       "      <th>urban_pop_major_cities</th>\n",
       "      <th>urban_pop_minor_cities</th>\n",
       "      <th>national_income</th>\n",
       "      <th>inflation_annual</th>\n",
       "      <th>inflation_monthly</th>\n",
       "      <th>inflation_weekly</th>\n",
       "      <th>mobile_subscriptions</th>\n",
       "      <th>internet_users</th>\n",
       "      <th>secure_internet_servers_total</th>\n",
       "      <th>improved_sanitation</th>\n",
       "      <th>women_parliament_seats_rate</th>\n",
       "      <th>life_expectancy</th>\n",
       "    </tr>\n",
       "  </thead>\n",
       "  <tbody>\n",
       "    <tr>\n",
       "      <th>0</th>\n",
       "      <td>120540.0</td>\n",
       "      <td>2.632839e+06</td>\n",
       "      <td>5.417843e+06</td>\n",
       "      <td>1379000.0</td>\n",
       "      <td>55.747169</td>\n",
       "      <td>4.688831</td>\n",
       "      <td>unknown</td>\n",
       "      <td>NaN</td>\n",
       "      <td>NaN</td>\n",
       "      <td>NaN</td>\n",
       "      <td>less than 1 per person</td>\n",
       "      <td>0 per 1000 people</td>\n",
       "      <td>NaN</td>\n",
       "      <td>high access</td>\n",
       "      <td>[0%-25%)</td>\n",
       "      <td>69.494195</td>\n",
       "    </tr>\n",
       "    <tr>\n",
       "      <th>1</th>\n",
       "      <td>752610.0</td>\n",
       "      <td>2.403039e+07</td>\n",
       "      <td>4.957554e+07</td>\n",
       "      <td>16500.0</td>\n",
       "      <td>16.890687</td>\n",
       "      <td>23.136313</td>\n",
       "      <td>very low</td>\n",
       "      <td>NaN</td>\n",
       "      <td>0.581473</td>\n",
       "      <td>NaN</td>\n",
       "      <td>less than 1 per person</td>\n",
       "      <td>154 per 1000 people</td>\n",
       "      <td>2.623624e+06</td>\n",
       "      <td>low access</td>\n",
       "      <td>[0%-25%)</td>\n",
       "      <td>59.237366</td>\n",
       "    </tr>\n",
       "    <tr>\n",
       "      <th>2</th>\n",
       "      <td>1396.0</td>\n",
       "      <td>3.000000e+03</td>\n",
       "      <td>8.000000e+01</td>\n",
       "      <td>NaN</td>\n",
       "      <td>18.390090</td>\n",
       "      <td>23.139910</td>\n",
       "      <td>unknown</td>\n",
       "      <td>NaN</td>\n",
       "      <td>NaN</td>\n",
       "      <td>NaN</td>\n",
       "      <td>more than 1 per person</td>\n",
       "      <td>90 per 100 people</td>\n",
       "      <td>1.656589e+09</td>\n",
       "      <td>no info</td>\n",
       "      <td>unknown</td>\n",
       "      <td>81.300000</td>\n",
       "    </tr>\n",
       "    <tr>\n",
       "      <th>3</th>\n",
       "      <td>2758812.0</td>\n",
       "      <td>1.228845e+08</td>\n",
       "      <td>1.050943e+08</td>\n",
       "      <td>1518650.0</td>\n",
       "      <td>50.966885</td>\n",
       "      <td>24.522427</td>\n",
       "      <td>high</td>\n",
       "      <td>1.374906</td>\n",
       "      <td>NaN</td>\n",
       "      <td>NaN</td>\n",
       "      <td>more than 1 per person</td>\n",
       "      <td>76 per 100 people</td>\n",
       "      <td>6.625072e+08</td>\n",
       "      <td>very high access</td>\n",
       "      <td>[25%-50%)</td>\n",
       "      <td>81.373197</td>\n",
       "    </tr>\n",
       "    <tr>\n",
       "      <th>4</th>\n",
       "      <td>340.0</td>\n",
       "      <td>1.100000e+04</td>\n",
       "      <td>1.699000e+04</td>\n",
       "      <td>NaN</td>\n",
       "      <td>5.311885</td>\n",
       "      <td>30.271115</td>\n",
       "      <td>unknown</td>\n",
       "      <td>-0.044229</td>\n",
       "      <td>NaN</td>\n",
       "      <td>NaN</td>\n",
       "      <td>more than 1 per person</td>\n",
       "      <td>350 per 1000 people</td>\n",
       "      <td>2.832808e+07</td>\n",
       "      <td>very high access</td>\n",
       "      <td>[25%-50%)</td>\n",
       "      <td>73.193561</td>\n",
       "    </tr>\n",
       "  </tbody>\n",
       "</table>\n",
       "</div>"
      ],
      "text/plain": [
       "   surface_area  agricultural_land   forest_area  armed_forces_total  \\\n",
       "0      120540.0       2.632839e+06  5.417843e+06           1379000.0   \n",
       "1      752610.0       2.403039e+07  4.957554e+07             16500.0   \n",
       "2        1396.0       3.000000e+03  8.000000e+01                 NaN   \n",
       "3     2758812.0       1.228845e+08  1.050943e+08           1518650.0   \n",
       "4         340.0       1.100000e+04  1.699000e+04                 NaN   \n",
       "\n",
       "   urban_pop_major_cities  urban_pop_minor_cities national_income  \\\n",
       "0               55.747169                4.688831         unknown   \n",
       "1               16.890687               23.136313        very low   \n",
       "2               18.390090               23.139910         unknown   \n",
       "3               50.966885               24.522427            high   \n",
       "4                5.311885               30.271115         unknown   \n",
       "\n",
       "   inflation_annual  inflation_monthly  inflation_weekly  \\\n",
       "0               NaN                NaN               NaN   \n",
       "1               NaN           0.581473               NaN   \n",
       "2               NaN                NaN               NaN   \n",
       "3          1.374906                NaN               NaN   \n",
       "4         -0.044229                NaN               NaN   \n",
       "\n",
       "     mobile_subscriptions       internet_users  secure_internet_servers_total  \\\n",
       "0  less than 1 per person    0 per 1000 people                            NaN   \n",
       "1  less than 1 per person  154 per 1000 people                   2.623624e+06   \n",
       "2  more than 1 per person    90 per 100 people                   1.656589e+09   \n",
       "3  more than 1 per person    76 per 100 people                   6.625072e+08   \n",
       "4  more than 1 per person  350 per 1000 people                   2.832808e+07   \n",
       "\n",
       "  improved_sanitation women_parliament_seats_rate  life_expectancy  \n",
       "0         high access                    [0%-25%)        69.494195  \n",
       "1          low access                    [0%-25%)        59.237366  \n",
       "2             no info                     unknown        81.300000  \n",
       "3    very high access                   [25%-50%)        81.373197  \n",
       "4    very high access                   [25%-50%)        73.193561  "
      ]
     },
     "execution_count": 4,
     "metadata": {},
     "output_type": "execute_result"
    }
   ],
   "source": [
    "# show head of file\n",
    "df.head()"
   ]
  },
  {
   "cell_type": "code",
   "execution_count": 5,
   "metadata": {},
   "outputs": [
    {
     "data": {
      "text/plain": [
       "(362, 16)"
      ]
     },
     "execution_count": 5,
     "metadata": {},
     "output_type": "execute_result"
    }
   ],
   "source": [
    "# shape of table\n",
    "df.shape"
   ]
  },
  {
   "cell_type": "code",
   "execution_count": 6,
   "metadata": {},
   "outputs": [
    {
     "data": {
      "text/plain": [
       "surface_area                     float64\n",
       "agricultural_land                float64\n",
       "forest_area                      float64\n",
       "armed_forces_total               float64\n",
       "urban_pop_major_cities           float64\n",
       "urban_pop_minor_cities           float64\n",
       "national_income                   object\n",
       "inflation_annual                 float64\n",
       "inflation_monthly                float64\n",
       "inflation_weekly                 float64\n",
       "mobile_subscriptions              object\n",
       "internet_users                    object\n",
       "secure_internet_servers_total    float64\n",
       "improved_sanitation               object\n",
       "women_parliament_seats_rate       object\n",
       "life_expectancy                  float64\n",
       "dtype: object"
      ]
     },
     "execution_count": 6,
     "metadata": {},
     "output_type": "execute_result"
    }
   ],
   "source": [
    "# data dype\n",
    "# may change dtype when loading file if file is huge, for example dtype={'carat': np.float64}\n",
    "df.dtypes"
   ]
  },
  {
   "cell_type": "code",
   "execution_count": 7,
   "metadata": {},
   "outputs": [
    {
     "data": {
      "text/plain": [
       "surface_area                       0\n",
       "agricultural_land                  4\n",
       "forest_area                        5\n",
       "armed_forces_total                44\n",
       "urban_pop_major_cities             2\n",
       "urban_pop_minor_cities             2\n",
       "national_income                    0\n",
       "inflation_annual                 216\n",
       "inflation_monthly                206\n",
       "inflation_weekly                 342\n",
       "mobile_subscriptions               0\n",
       "internet_users                     0\n",
       "secure_internet_servers_total     10\n",
       "improved_sanitation                0\n",
       "women_parliament_seats_rate        0\n",
       "life_expectancy                    0\n",
       "dtype: int64"
      ]
     },
     "execution_count": 7,
     "metadata": {},
     "output_type": "execute_result"
    }
   ],
   "source": [
    "df.isnull().sum()"
   ]
  },
  {
   "cell_type": "markdown",
   "metadata": {},
   "source": [
    "**note: inflation rate missing values are qiute large, but they may convert to each, let convert to annual inflation value first**"
   ]
  },
  {
   "cell_type": "code",
   "execution_count": 8,
   "metadata": {},
   "outputs": [],
   "source": [
    "# make a copy\n",
    "df1 = df.copy()"
   ]
  },
  {
   "cell_type": "code",
   "execution_count": 9,
   "metadata": {},
   "outputs": [],
   "source": [
    "# if annual value is missing, fill from monthly, or weekly data\n",
    "for i in df1.index:\n",
    "    if np.isnan(df1.loc[i, 'inflation_annual']):\n",
    "        if np.isnan(df1.loc[i, 'inflation_monthly']):\n",
    "            df1.loc[i, 'inflation_annual'] = 52 * df1.loc[i, 'inflation_weekly']\n",
    "        else:\n",
    "            df1.loc[i, 'inflation_annual'] = 12 * df1.loc[i, 'inflation_monthly']\n",
    "            \n",
    "# Remove columns 'inflation_monthly' & 'inflation_weekly'\n",
    "df1.drop(['inflation_monthly', 'inflation_weekly'], axis=1, inplace=True)"
   ]
  },
  {
   "cell_type": "code",
   "execution_count": 10,
   "metadata": {},
   "outputs": [
    {
     "data": {
      "text/plain": [
       "surface_area                      0\n",
       "agricultural_land                 4\n",
       "forest_area                       5\n",
       "armed_forces_total               44\n",
       "urban_pop_major_cities            2\n",
       "urban_pop_minor_cities            2\n",
       "national_income                   0\n",
       "inflation_annual                 40\n",
       "mobile_subscriptions              0\n",
       "internet_users                    0\n",
       "secure_internet_servers_total    10\n",
       "improved_sanitation               0\n",
       "women_parliament_seats_rate       0\n",
       "life_expectancy                   0\n",
       "dtype: int64"
      ]
     },
     "execution_count": 10,
     "metadata": {},
     "output_type": "execute_result"
    }
   ],
   "source": [
    "df1.isnull().sum()"
   ]
  },
  {
   "cell_type": "markdown",
   "metadata": {},
   "source": [
    "**note: agriculture and forest land can be replaced by ratio**"
   ]
  },
  {
   "cell_type": "code",
   "execution_count": 11,
   "metadata": {},
   "outputs": [
    {
     "data": {
      "image/png": "[encoded data removed]",
      "text/plain": [
       "<Figure size 432x288 with 2 Axes>"
      ]
     },
     "metadata": {
      "needs_background": "light"
     },
     "output_type": "display_data"
    }
   ],
   "source": [
    "# Check if these three variables are highly correlated (multicollinearity problem)\n",
    "sns.heatmap(df1[['surface_area', 'agricultural_land','forest_area']].corr(), cmap='PRGn', annot=True);"
   ]
  },
  {
   "cell_type": "code",
   "execution_count": 12,
   "metadata": {},
   "outputs": [
    {
     "data": {
      "image/png": "[encoded data removed]",
      "text/plain": [
       "<Figure size 540x540 with 12 Axes>"
      ]
     },
     "metadata": {
      "needs_background": "light"
     },
     "output_type": "display_data"
    }
   ],
   "source": [
    "# Plot pairwise relationship and distribution of these three variables\n",
    "sns.pairplot(df1[['surface_area', 'agricultural_land','forest_area']]);"
   ]
  },
  {
   "cell_type": "markdown",
   "metadata": {},
   "source": [
    "**Note1: Strong linear relationship, it is said no use for model training, it may be converted to ratio value, which are more meaningful, actually, I think so, either.**\n",
    "**Note2: the surface_area seems have unit problems, 1e8 magnitute is smaller than argriculture and forest, guessing that the surface area unit is wrong, **"
   ]
  },
  {
   "cell_type": "code",
   "execution_count": 13,
   "metadata": {},
   "outputs": [],
   "source": [
    "# make a copy of the orginal dataframe\n",
    "df2 = df1.copy()\n",
    "\n",
    "# Step 1: Multiply 'surface_area' by 100\n",
    "df2['surface_area'] = df2['surface_area'] * 100\n",
    "\n",
    "# Step 2: Creates new variables \n",
    "df2['agricultural_portion'] = df2['agricultural_land'] / df2['surface_area'] \n",
    "df2['forest_portion'] = df2['forest_area'] / df2['surface_area']\n",
    "\n",
    "# Step 3: Remove 'agricultural_land' and 'forest_area' colums from dataset\n",
    "df2.drop(['agricultural_land', 'forest_area'], axis=1, inplace=True)"
   ]
  },
  {
   "cell_type": "code",
   "execution_count": 14,
   "metadata": {},
   "outputs": [
    {
     "data": {
      "image/png": "[encoded data removed]",
      "text/plain": [
       "<Figure size 432x288 with 2 Axes>"
      ]
     },
     "metadata": {
      "needs_background": "light"
     },
     "output_type": "display_data"
    }
   ],
   "source": [
    "# Check correlations among 'surface_area', 'agriculture_portion' & 'forest_portion' for multicollinearity\n",
    "sns.heatmap(df2[['surface_area', 'agricultural_portion','forest_portion']].corr(), cmap='PRGn',annot=True);"
   ]
  },
  {
   "cell_type": "code",
   "execution_count": 15,
   "metadata": {},
   "outputs": [
    {
     "data": {
      "text/plain": [
       "surface_area                      0\n",
       "armed_forces_total               44\n",
       "urban_pop_major_cities            2\n",
       "urban_pop_minor_cities            2\n",
       "national_income                   0\n",
       "inflation_annual                 40\n",
       "mobile_subscriptions              0\n",
       "internet_users                    0\n",
       "secure_internet_servers_total    10\n",
       "improved_sanitation               0\n",
       "women_parliament_seats_rate       0\n",
       "life_expectancy                   0\n",
       "agricultural_portion              4\n",
       "forest_portion                    5\n",
       "dtype: int64"
      ]
     },
     "execution_count": 15,
     "metadata": {},
     "output_type": "execute_result"
    }
   ],
   "source": [
    "df2.isnull().sum()"
   ]
  },
  {
   "cell_type": "code",
   "execution_count": 16,
   "metadata": {},
   "outputs": [
    {
     "data": {
      "text/plain": [
       "surface_area                     float64\n",
       "armed_forces_total               float64\n",
       "urban_pop_major_cities           float64\n",
       "urban_pop_minor_cities           float64\n",
       "national_income                   object\n",
       "inflation_annual                 float64\n",
       "mobile_subscriptions              object\n",
       "internet_users                    object\n",
       "secure_internet_servers_total    float64\n",
       "improved_sanitation               object\n",
       "women_parliament_seats_rate       object\n",
       "life_expectancy                  float64\n",
       "agricultural_portion             float64\n",
       "forest_portion                   float64\n",
       "dtype: object"
      ]
     },
     "execution_count": 16,
     "metadata": {},
     "output_type": "execute_result"
    }
   ],
   "source": [
    "df2.dtypes"
   ]
  },
  {
   "cell_type": "markdown",
   "metadata": {},
   "source": [
    "**note: convert: national_income, mobile_subscriptions, internet_users, improved_sanitation, women_parliament_seats_rate**"
   ]
  },
  {
   "cell_type": "code",
   "execution_count": 17,
   "metadata": {},
   "outputs": [
    {
     "data": {
      "text/html": [
       "<div>\n",
       "<style scoped>\n",
       "    .dataframe tbody tr th:only-of-type {\n",
       "        vertical-align: middle;\n",
       "    }\n",
       "\n",
       "    .dataframe tbody tr th {\n",
       "        vertical-align: top;\n",
       "    }\n",
       "\n",
       "    .dataframe thead th {\n",
       "        text-align: right;\n",
       "    }\n",
       "</style>\n",
       "<table border=\"1\" class=\"dataframe\">\n",
       "  <thead>\n",
       "    <tr style=\"text-align: right;\">\n",
       "      <th></th>\n",
       "      <th>surface_area</th>\n",
       "      <th>armed_forces_total</th>\n",
       "      <th>urban_pop_major_cities</th>\n",
       "      <th>urban_pop_minor_cities</th>\n",
       "      <th>national_income</th>\n",
       "      <th>inflation_annual</th>\n",
       "      <th>mobile_subscriptions</th>\n",
       "      <th>internet_users</th>\n",
       "      <th>secure_internet_servers_total</th>\n",
       "      <th>improved_sanitation</th>\n",
       "      <th>women_parliament_seats_rate</th>\n",
       "      <th>life_expectancy</th>\n",
       "      <th>agricultural_portion</th>\n",
       "      <th>forest_portion</th>\n",
       "    </tr>\n",
       "  </thead>\n",
       "  <tbody>\n",
       "    <tr>\n",
       "      <th>0</th>\n",
       "      <td>12054000.0</td>\n",
       "      <td>1379000.0</td>\n",
       "      <td>55.747169</td>\n",
       "      <td>4.688831</td>\n",
       "      <td>unknown</td>\n",
       "      <td>NaN</td>\n",
       "      <td>less than 1 per person</td>\n",
       "      <td>0 per 1000 people</td>\n",
       "      <td>NaN</td>\n",
       "      <td>high access</td>\n",
       "      <td>[0%-25%)</td>\n",
       "      <td>69.494195</td>\n",
       "      <td>0.218420</td>\n",
       "      <td>0.449464</td>\n",
       "    </tr>\n",
       "    <tr>\n",
       "      <th>1</th>\n",
       "      <td>75261000.0</td>\n",
       "      <td>16500.0</td>\n",
       "      <td>16.890687</td>\n",
       "      <td>23.136313</td>\n",
       "      <td>very low</td>\n",
       "      <td>6.977676</td>\n",
       "      <td>less than 1 per person</td>\n",
       "      <td>154 per 1000 people</td>\n",
       "      <td>2.623624e+06</td>\n",
       "      <td>low access</td>\n",
       "      <td>[0%-25%)</td>\n",
       "      <td>59.237366</td>\n",
       "      <td>0.319294</td>\n",
       "      <td>0.658715</td>\n",
       "    </tr>\n",
       "    <tr>\n",
       "      <th>2</th>\n",
       "      <td>139600.0</td>\n",
       "      <td>NaN</td>\n",
       "      <td>18.390090</td>\n",
       "      <td>23.139910</td>\n",
       "      <td>unknown</td>\n",
       "      <td>NaN</td>\n",
       "      <td>more than 1 per person</td>\n",
       "      <td>90 per 100 people</td>\n",
       "      <td>1.656589e+09</td>\n",
       "      <td>no info</td>\n",
       "      <td>unknown</td>\n",
       "      <td>81.300000</td>\n",
       "      <td>0.021490</td>\n",
       "      <td>0.000573</td>\n",
       "    </tr>\n",
       "    <tr>\n",
       "      <th>3</th>\n",
       "      <td>275881200.0</td>\n",
       "      <td>1518650.0</td>\n",
       "      <td>50.966885</td>\n",
       "      <td>24.522427</td>\n",
       "      <td>high</td>\n",
       "      <td>1.374906</td>\n",
       "      <td>more than 1 per person</td>\n",
       "      <td>76 per 100 people</td>\n",
       "      <td>6.625072e+08</td>\n",
       "      <td>very high access</td>\n",
       "      <td>[25%-50%)</td>\n",
       "      <td>81.373197</td>\n",
       "      <td>0.445426</td>\n",
       "      <td>0.380940</td>\n",
       "    </tr>\n",
       "    <tr>\n",
       "      <th>4</th>\n",
       "      <td>34000.0</td>\n",
       "      <td>NaN</td>\n",
       "      <td>5.311885</td>\n",
       "      <td>30.271115</td>\n",
       "      <td>unknown</td>\n",
       "      <td>-0.044229</td>\n",
       "      <td>more than 1 per person</td>\n",
       "      <td>350 per 1000 people</td>\n",
       "      <td>2.832808e+07</td>\n",
       "      <td>very high access</td>\n",
       "      <td>[25%-50%)</td>\n",
       "      <td>73.193561</td>\n",
       "      <td>0.323529</td>\n",
       "      <td>0.499706</td>\n",
       "    </tr>\n",
       "  </tbody>\n",
       "</table>\n",
       "</div>"
      ],
      "text/plain": [
       "   surface_area  armed_forces_total  urban_pop_major_cities  \\\n",
       "0    12054000.0           1379000.0               55.747169   \n",
       "1    75261000.0             16500.0               16.890687   \n",
       "2      139600.0                 NaN               18.390090   \n",
       "3   275881200.0           1518650.0               50.966885   \n",
       "4       34000.0                 NaN                5.311885   \n",
       "\n",
       "   urban_pop_minor_cities national_income  inflation_annual  \\\n",
       "0                4.688831         unknown               NaN   \n",
       "1               23.136313        very low          6.977676   \n",
       "2               23.139910         unknown               NaN   \n",
       "3               24.522427            high          1.374906   \n",
       "4               30.271115         unknown         -0.044229   \n",
       "\n",
       "     mobile_subscriptions       internet_users  secure_internet_servers_total  \\\n",
       "0  less than 1 per person    0 per 1000 people                            NaN   \n",
       "1  less than 1 per person  154 per 1000 people                   2.623624e+06   \n",
       "2  more than 1 per person    90 per 100 people                   1.656589e+09   \n",
       "3  more than 1 per person    76 per 100 people                   6.625072e+08   \n",
       "4  more than 1 per person  350 per 1000 people                   2.832808e+07   \n",
       "\n",
       "  improved_sanitation women_parliament_seats_rate  life_expectancy  \\\n",
       "0         high access                    [0%-25%)        69.494195   \n",
       "1          low access                    [0%-25%)        59.237366   \n",
       "2             no info                     unknown        81.300000   \n",
       "3    very high access                   [25%-50%)        81.373197   \n",
       "4    very high access                   [25%-50%)        73.193561   \n",
       "\n",
       "   agricultural_portion  forest_portion  \n",
       "0              0.218420        0.449464  \n",
       "1              0.319294        0.658715  \n",
       "2              0.021490        0.000573  \n",
       "3              0.445426        0.380940  \n",
       "4              0.323529        0.499706  "
      ]
     },
     "execution_count": 17,
     "metadata": {},
     "output_type": "execute_result"
    }
   ],
   "source": [
    "df2.head()"
   ]
  },
  {
   "cell_type": "code",
   "execution_count": 18,
   "metadata": {},
   "outputs": [
    {
     "name": "stdout",
     "output_type": "stream",
     "text": [
      "Feature 'national_income' has 7 unique categories\n",
      "Feature 'mobile_subscriptions' has 5 unique categories\n",
      "Feature 'internet_users' has 198 unique categories\n",
      "Feature 'improved_sanitation' has 6 unique categories\n",
      "Feature 'women_parliament_seats_rate' has 4 unique categories\n"
     ]
    }
   ],
   "source": [
    "# Convert categorical and ordinal fearures into numeric features\n",
    "# Decide which categorical variables you want to use in model\n",
    "for col_name in df2.columns:\n",
    "    if df2[col_name].dtypes == 'object':\n",
    "        unique_cat = len(df2[col_name].unique())\n",
    "        print(\"Feature '{col_name}' has {unique_cat} unique categories\".format(col_name=col_name, unique_cat=unique_cat))"
   ]
  },
  {
   "cell_type": "code",
   "execution_count": 19,
   "metadata": {},
   "outputs": [],
   "source": [
    "# begin from the most one internet_users\n",
    "# Convert 'internet_users' column to associated percentages\n",
    "variable_split = df2['internet_users'].str.split()\n",
    "df2['percent_internet_users'] = (pd.to_numeric(variable_split.str.get(0), errors='coerce') / \n",
    "                          pd.to_numeric(variable_split.str.get(2), errors='coerce'))\n",
    "# Remove 'internet_users' column\n",
    "df2.drop('internet_users', axis=1, inplace=True)"
   ]
  },
  {
   "cell_type": "code",
   "execution_count": 20,
   "metadata": {},
   "outputs": [
    {
     "data": {
      "text/html": [
       "<div>\n",
       "<style scoped>\n",
       "    .dataframe tbody tr th:only-of-type {\n",
       "        vertical-align: middle;\n",
       "    }\n",
       "\n",
       "    .dataframe tbody tr th {\n",
       "        vertical-align: top;\n",
       "    }\n",
       "\n",
       "    .dataframe thead th {\n",
       "        text-align: right;\n",
       "    }\n",
       "</style>\n",
       "<table border=\"1\" class=\"dataframe\">\n",
       "  <thead>\n",
       "    <tr style=\"text-align: right;\">\n",
       "      <th></th>\n",
       "      <th>surface_area</th>\n",
       "      <th>armed_forces_total</th>\n",
       "      <th>urban_pop_major_cities</th>\n",
       "      <th>urban_pop_minor_cities</th>\n",
       "      <th>national_income</th>\n",
       "      <th>inflation_annual</th>\n",
       "      <th>mobile_subscriptions</th>\n",
       "      <th>secure_internet_servers_total</th>\n",
       "      <th>improved_sanitation</th>\n",
       "      <th>women_parliament_seats_rate</th>\n",
       "      <th>life_expectancy</th>\n",
       "      <th>agricultural_portion</th>\n",
       "      <th>forest_portion</th>\n",
       "      <th>percent_internet_users</th>\n",
       "    </tr>\n",
       "  </thead>\n",
       "  <tbody>\n",
       "    <tr>\n",
       "      <th>0</th>\n",
       "      <td>12054000.0</td>\n",
       "      <td>1379000.0</td>\n",
       "      <td>55.747169</td>\n",
       "      <td>4.688831</td>\n",
       "      <td>unknown</td>\n",
       "      <td>NaN</td>\n",
       "      <td>less than 1 per person</td>\n",
       "      <td>NaN</td>\n",
       "      <td>high access</td>\n",
       "      <td>[0%-25%)</td>\n",
       "      <td>69.494195</td>\n",
       "      <td>0.218420</td>\n",
       "      <td>0.449464</td>\n",
       "      <td>0.000</td>\n",
       "    </tr>\n",
       "    <tr>\n",
       "      <th>1</th>\n",
       "      <td>75261000.0</td>\n",
       "      <td>16500.0</td>\n",
       "      <td>16.890687</td>\n",
       "      <td>23.136313</td>\n",
       "      <td>very low</td>\n",
       "      <td>6.977676</td>\n",
       "      <td>less than 1 per person</td>\n",
       "      <td>2.623624e+06</td>\n",
       "      <td>low access</td>\n",
       "      <td>[0%-25%)</td>\n",
       "      <td>59.237366</td>\n",
       "      <td>0.319294</td>\n",
       "      <td>0.658715</td>\n",
       "      <td>0.154</td>\n",
       "    </tr>\n",
       "    <tr>\n",
       "      <th>2</th>\n",
       "      <td>139600.0</td>\n",
       "      <td>NaN</td>\n",
       "      <td>18.390090</td>\n",
       "      <td>23.139910</td>\n",
       "      <td>unknown</td>\n",
       "      <td>NaN</td>\n",
       "      <td>more than 1 per person</td>\n",
       "      <td>1.656589e+09</td>\n",
       "      <td>no info</td>\n",
       "      <td>unknown</td>\n",
       "      <td>81.300000</td>\n",
       "      <td>0.021490</td>\n",
       "      <td>0.000573</td>\n",
       "      <td>0.900</td>\n",
       "    </tr>\n",
       "    <tr>\n",
       "      <th>3</th>\n",
       "      <td>275881200.0</td>\n",
       "      <td>1518650.0</td>\n",
       "      <td>50.966885</td>\n",
       "      <td>24.522427</td>\n",
       "      <td>high</td>\n",
       "      <td>1.374906</td>\n",
       "      <td>more than 1 per person</td>\n",
       "      <td>6.625072e+08</td>\n",
       "      <td>very high access</td>\n",
       "      <td>[25%-50%)</td>\n",
       "      <td>81.373197</td>\n",
       "      <td>0.445426</td>\n",
       "      <td>0.380940</td>\n",
       "      <td>0.760</td>\n",
       "    </tr>\n",
       "    <tr>\n",
       "      <th>4</th>\n",
       "      <td>34000.0</td>\n",
       "      <td>NaN</td>\n",
       "      <td>5.311885</td>\n",
       "      <td>30.271115</td>\n",
       "      <td>unknown</td>\n",
       "      <td>-0.044229</td>\n",
       "      <td>more than 1 per person</td>\n",
       "      <td>2.832808e+07</td>\n",
       "      <td>very high access</td>\n",
       "      <td>[25%-50%)</td>\n",
       "      <td>73.193561</td>\n",
       "      <td>0.323529</td>\n",
       "      <td>0.499706</td>\n",
       "      <td>0.350</td>\n",
       "    </tr>\n",
       "  </tbody>\n",
       "</table>\n",
       "</div>"
      ],
      "text/plain": [
       "   surface_area  armed_forces_total  urban_pop_major_cities  \\\n",
       "0    12054000.0           1379000.0               55.747169   \n",
       "1    75261000.0             16500.0               16.890687   \n",
       "2      139600.0                 NaN               18.390090   \n",
       "3   275881200.0           1518650.0               50.966885   \n",
       "4       34000.0                 NaN                5.311885   \n",
       "\n",
       "   urban_pop_minor_cities national_income  inflation_annual  \\\n",
       "0                4.688831         unknown               NaN   \n",
       "1               23.136313        very low          6.977676   \n",
       "2               23.139910         unknown               NaN   \n",
       "3               24.522427            high          1.374906   \n",
       "4               30.271115         unknown         -0.044229   \n",
       "\n",
       "     mobile_subscriptions  secure_internet_servers_total improved_sanitation  \\\n",
       "0  less than 1 per person                            NaN         high access   \n",
       "1  less than 1 per person                   2.623624e+06          low access   \n",
       "2  more than 1 per person                   1.656589e+09             no info   \n",
       "3  more than 1 per person                   6.625072e+08    very high access   \n",
       "4  more than 1 per person                   2.832808e+07    very high access   \n",
       "\n",
       "  women_parliament_seats_rate  life_expectancy  agricultural_portion  \\\n",
       "0                    [0%-25%)        69.494195              0.218420   \n",
       "1                    [0%-25%)        59.237366              0.319294   \n",
       "2                     unknown        81.300000              0.021490   \n",
       "3                   [25%-50%)        81.373197              0.445426   \n",
       "4                   [25%-50%)        73.193561              0.323529   \n",
       "\n",
       "   forest_portion  percent_internet_users  \n",
       "0        0.449464                   0.000  \n",
       "1        0.658715                   0.154  \n",
       "2        0.000573                   0.900  \n",
       "3        0.380940                   0.760  \n",
       "4        0.499706                   0.350  "
      ]
     },
     "execution_count": 20,
     "metadata": {},
     "output_type": "execute_result"
    }
   ],
   "source": [
    "df2.head()"
   ]
  },
  {
   "cell_type": "code",
   "execution_count": 21,
   "metadata": {},
   "outputs": [
    {
     "name": "stdout",
     "output_type": "stream",
     "text": [
      "national_income :\n",
      "low            81\n",
      "very low       77\n",
      "medium low     76\n",
      "unknown        48\n",
      "high           37\n",
      "medium high    31\n",
      "very high      12\n",
      "Name: national_income, dtype: int64 \n",
      "\n",
      "mobile_subscriptions :\n",
      "more than 1 per person    188\n",
      "less than 1 per person    164\n",
      "unknown                     7\n",
      "more than 2 per person      2\n",
      "more than 3 per person      1\n",
      "Name: mobile_subscriptions, dtype: int64 \n",
      "\n",
      "improved_sanitation :\n",
      "very high access    155\n",
      "low access           55\n",
      "medium access        54\n",
      "high access          47\n",
      "very low access      33\n",
      "no info              18\n",
      "Name: improved_sanitation, dtype: int64 \n",
      "\n",
      "women_parliament_seats_rate :\n",
      "[0%-25%)     249\n",
      "[25%-50%)     82\n",
      "unknown       30\n",
      "[50%-75%)      1\n",
      "Name: women_parliament_seats_rate, dtype: int64 \n",
      "\n"
     ]
    }
   ],
   "source": [
    "# Check the frequency of categories (labels) in each categorical variable \n",
    "for name in df2.select_dtypes(include=['object']):\n",
    "    print(name,':')\n",
    "    print(df2[name].value_counts(),'\\n')"
   ]
  },
  {
   "cell_type": "code",
   "execution_count": 22,
   "metadata": {},
   "outputs": [],
   "source": [
    "# Assign \"mobile_subscriptions\" values to 1 if mobile subscriptions is\n",
    "# less than 1 per person, otherwise 2:\n",
    "df2['mobile_subscriptions'] = [1 if x == 'less than 1 per person' else 2 for x in df2['mobile_subscriptions']]"
   ]
  },
  {
   "cell_type": "code",
   "execution_count": 23,
   "metadata": {},
   "outputs": [],
   "source": [
    "# Assign \"women_parliament_seats_rate\" to 1 if women _parliament seat _rate is\n",
    "# [0%-25%), 2 if it is [25%-75%), or 3 if unknown:\n",
    "\n",
    "df2['women_parliament_seats_rate'] = (\n",
    "    df2['women_parliament_seats_rate'].replace('[0%-25%)', 1))\n",
    "df2['women_parliament_seats_rate'] = (\n",
    "    df2['women_parliament_seats_rate'].replace('[25%-50%)', 2))\n",
    "df2['women_parliament_seats_rate'] = (\n",
    "    df2['women_parliament_seats_rate'].replace('[50%-75%)', 2))\n",
    "df2['women_parliament_seats_rate'] = (\n",
    "    df2['women_parliament_seats_rate'].replace('unknown', 3))"
   ]
  },
  {
   "cell_type": "code",
   "execution_count": 24,
   "metadata": {},
   "outputs": [],
   "source": [
    "# Assign numeric values to the levels of \"national_income\" (ordinal variable):\n",
    "mapper_1 = {'very low': 1, 'medium low': 2, 'low': 3,\n",
    "            'medium high': 4, 'high': 5, 'very high': 6,\n",
    "            'unknown': 7}\n",
    "df2['national_income'].replace(mapper_1, inplace=True)"
   ]
  },
  {
   "cell_type": "code",
   "execution_count": 25,
   "metadata": {},
   "outputs": [],
   "source": [
    "# Assign numeric values to the levels of \"improved_sanitation\" (Ordinal Variable):\n",
    "mapper_2 = {'very low access': 1, 'low access': 2, 'medium access': 3,\n",
    "            'high access': 4, 'very high access': 5, 'no info': 6}\n",
    "df2['improved_sanitation'].replace(mapper_2, inplace=True)"
   ]
  },
  {
   "cell_type": "code",
   "execution_count": 26,
   "metadata": {},
   "outputs": [
    {
     "data": {
      "text/html": [
       "<div>\n",
       "<style scoped>\n",
       "    .dataframe tbody tr th:only-of-type {\n",
       "        vertical-align: middle;\n",
       "    }\n",
       "\n",
       "    .dataframe tbody tr th {\n",
       "        vertical-align: top;\n",
       "    }\n",
       "\n",
       "    .dataframe thead th {\n",
       "        text-align: right;\n",
       "    }\n",
       "</style>\n",
       "<table border=\"1\" class=\"dataframe\">\n",
       "  <thead>\n",
       "    <tr style=\"text-align: right;\">\n",
       "      <th></th>\n",
       "      <th>surface_area</th>\n",
       "      <th>armed_forces_total</th>\n",
       "      <th>urban_pop_major_cities</th>\n",
       "      <th>urban_pop_minor_cities</th>\n",
       "      <th>national_income</th>\n",
       "      <th>inflation_annual</th>\n",
       "      <th>mobile_subscriptions</th>\n",
       "      <th>secure_internet_servers_total</th>\n",
       "      <th>improved_sanitation</th>\n",
       "      <th>women_parliament_seats_rate</th>\n",
       "      <th>life_expectancy</th>\n",
       "      <th>agricultural_portion</th>\n",
       "      <th>forest_portion</th>\n",
       "      <th>percent_internet_users</th>\n",
       "    </tr>\n",
       "  </thead>\n",
       "  <tbody>\n",
       "    <tr>\n",
       "      <th>0</th>\n",
       "      <td>12054000.0</td>\n",
       "      <td>1379000.0</td>\n",
       "      <td>55.747169</td>\n",
       "      <td>4.688831</td>\n",
       "      <td>7</td>\n",
       "      <td>NaN</td>\n",
       "      <td>1</td>\n",
       "      <td>NaN</td>\n",
       "      <td>4</td>\n",
       "      <td>1</td>\n",
       "      <td>69.494195</td>\n",
       "      <td>0.218420</td>\n",
       "      <td>0.449464</td>\n",
       "      <td>0.000</td>\n",
       "    </tr>\n",
       "    <tr>\n",
       "      <th>1</th>\n",
       "      <td>75261000.0</td>\n",
       "      <td>16500.0</td>\n",
       "      <td>16.890687</td>\n",
       "      <td>23.136313</td>\n",
       "      <td>1</td>\n",
       "      <td>6.977676</td>\n",
       "      <td>1</td>\n",
       "      <td>2.623624e+06</td>\n",
       "      <td>2</td>\n",
       "      <td>1</td>\n",
       "      <td>59.237366</td>\n",
       "      <td>0.319294</td>\n",
       "      <td>0.658715</td>\n",
       "      <td>0.154</td>\n",
       "    </tr>\n",
       "    <tr>\n",
       "      <th>2</th>\n",
       "      <td>139600.0</td>\n",
       "      <td>NaN</td>\n",
       "      <td>18.390090</td>\n",
       "      <td>23.139910</td>\n",
       "      <td>7</td>\n",
       "      <td>NaN</td>\n",
       "      <td>2</td>\n",
       "      <td>1.656589e+09</td>\n",
       "      <td>6</td>\n",
       "      <td>3</td>\n",
       "      <td>81.300000</td>\n",
       "      <td>0.021490</td>\n",
       "      <td>0.000573</td>\n",
       "      <td>0.900</td>\n",
       "    </tr>\n",
       "    <tr>\n",
       "      <th>3</th>\n",
       "      <td>275881200.0</td>\n",
       "      <td>1518650.0</td>\n",
       "      <td>50.966885</td>\n",
       "      <td>24.522427</td>\n",
       "      <td>5</td>\n",
       "      <td>1.374906</td>\n",
       "      <td>2</td>\n",
       "      <td>6.625072e+08</td>\n",
       "      <td>5</td>\n",
       "      <td>2</td>\n",
       "      <td>81.373197</td>\n",
       "      <td>0.445426</td>\n",
       "      <td>0.380940</td>\n",
       "      <td>0.760</td>\n",
       "    </tr>\n",
       "    <tr>\n",
       "      <th>4</th>\n",
       "      <td>34000.0</td>\n",
       "      <td>NaN</td>\n",
       "      <td>5.311885</td>\n",
       "      <td>30.271115</td>\n",
       "      <td>7</td>\n",
       "      <td>-0.044229</td>\n",
       "      <td>2</td>\n",
       "      <td>2.832808e+07</td>\n",
       "      <td>5</td>\n",
       "      <td>2</td>\n",
       "      <td>73.193561</td>\n",
       "      <td>0.323529</td>\n",
       "      <td>0.499706</td>\n",
       "      <td>0.350</td>\n",
       "    </tr>\n",
       "  </tbody>\n",
       "</table>\n",
       "</div>"
      ],
      "text/plain": [
       "   surface_area  armed_forces_total  urban_pop_major_cities  \\\n",
       "0    12054000.0           1379000.0               55.747169   \n",
       "1    75261000.0             16500.0               16.890687   \n",
       "2      139600.0                 NaN               18.390090   \n",
       "3   275881200.0           1518650.0               50.966885   \n",
       "4       34000.0                 NaN                5.311885   \n",
       "\n",
       "   urban_pop_minor_cities  national_income  inflation_annual  \\\n",
       "0                4.688831                7               NaN   \n",
       "1               23.136313                1          6.977676   \n",
       "2               23.139910                7               NaN   \n",
       "3               24.522427                5          1.374906   \n",
       "4               30.271115                7         -0.044229   \n",
       "\n",
       "   mobile_subscriptions  secure_internet_servers_total  improved_sanitation  \\\n",
       "0                     1                            NaN                    4   \n",
       "1                     1                   2.623624e+06                    2   \n",
       "2                     2                   1.656589e+09                    6   \n",
       "3                     2                   6.625072e+08                    5   \n",
       "4                     2                   2.832808e+07                    5   \n",
       "\n",
       "   women_parliament_seats_rate  life_expectancy  agricultural_portion  \\\n",
       "0                            1        69.494195              0.218420   \n",
       "1                            1        59.237366              0.319294   \n",
       "2                            3        81.300000              0.021490   \n",
       "3                            2        81.373197              0.445426   \n",
       "4                            2        73.193561              0.323529   \n",
       "\n",
       "   forest_portion  percent_internet_users  \n",
       "0        0.449464                   0.000  \n",
       "1        0.658715                   0.154  \n",
       "2        0.000573                   0.900  \n",
       "3        0.380940                   0.760  \n",
       "4        0.499706                   0.350  "
      ]
     },
     "execution_count": 26,
     "metadata": {},
     "output_type": "execute_result"
    }
   ],
   "source": [
    "df2.head()"
   ]
  },
  {
   "cell_type": "markdown",
   "metadata": {},
   "source": [
    "## Data missing filling"
   ]
  },
  {
   "cell_type": "code",
   "execution_count": 27,
   "metadata": {},
   "outputs": [
    {
     "data": {
      "text/plain": [
       "armed_forces_total               44\n",
       "inflation_annual                 40\n",
       "secure_internet_servers_total    10\n",
       "percent_internet_users            6\n",
       "forest_portion                    5\n",
       "agricultural_portion              4\n",
       "urban_pop_major_cities            2\n",
       "urban_pop_minor_cities            2\n",
       "surface_area                      0\n",
       "national_income                   0\n",
       "mobile_subscriptions              0\n",
       "improved_sanitation               0\n",
       "women_parliament_seats_rate       0\n",
       "life_expectancy                   0\n",
       "dtype: int64"
      ]
     },
     "execution_count": 27,
     "metadata": {},
     "output_type": "execute_result"
    }
   ],
   "source": [
    "# make a copy of df1  \n",
    "df3 = df2.copy()\n",
    "# How much of your data is missing?\n",
    "df3.isnull().sum().sort_values(ascending=False)"
   ]
  },
  {
   "cell_type": "code",
   "execution_count": 31,
   "metadata": {},
   "outputs": [],
   "source": [
    "# Impute missing values using Imputer in sklearn.preprocessing\n",
    "\n",
    "imp = SimpleImputer(missing_values=np.nan, strategy='median')\n",
    "imp.fit(df3)\n",
    "df3 = pd.DataFrame(data=imp.transform(df3) , columns=df3.columns)"
   ]
  },
  {
   "cell_type": "code",
   "execution_count": 32,
   "metadata": {},
   "outputs": [
    {
     "data": {
      "text/html": [
       "<div>\n",
       "<style scoped>\n",
       "    .dataframe tbody tr th:only-of-type {\n",
       "        vertical-align: middle;\n",
       "    }\n",
       "\n",
       "    .dataframe tbody tr th {\n",
       "        vertical-align: top;\n",
       "    }\n",
       "\n",
       "    .dataframe thead th {\n",
       "        text-align: right;\n",
       "    }\n",
       "</style>\n",
       "<table border=\"1\" class=\"dataframe\">\n",
       "  <thead>\n",
       "    <tr style=\"text-align: right;\">\n",
       "      <th></th>\n",
       "      <th>surface_area</th>\n",
       "      <th>armed_forces_total</th>\n",
       "      <th>urban_pop_major_cities</th>\n",
       "      <th>urban_pop_minor_cities</th>\n",
       "      <th>national_income</th>\n",
       "      <th>inflation_annual</th>\n",
       "      <th>mobile_subscriptions</th>\n",
       "      <th>secure_internet_servers_total</th>\n",
       "      <th>improved_sanitation</th>\n",
       "      <th>women_parliament_seats_rate</th>\n",
       "      <th>life_expectancy</th>\n",
       "      <th>agricultural_portion</th>\n",
       "      <th>forest_portion</th>\n",
       "      <th>percent_internet_users</th>\n",
       "    </tr>\n",
       "  </thead>\n",
       "  <tbody>\n",
       "    <tr>\n",
       "      <th>0</th>\n",
       "      <td>1.205400e+07</td>\n",
       "      <td>1379000.0</td>\n",
       "      <td>55.747169</td>\n",
       "      <td>4.688831</td>\n",
       "      <td>7.0</td>\n",
       "      <td>3.371067</td>\n",
       "      <td>1.0</td>\n",
       "      <td>2.671228e+07</td>\n",
       "      <td>4.0</td>\n",
       "      <td>1.0</td>\n",
       "      <td>69.494195</td>\n",
       "      <td>0.218420</td>\n",
       "      <td>0.449464</td>\n",
       "      <td>0.000</td>\n",
       "    </tr>\n",
       "    <tr>\n",
       "      <th>1</th>\n",
       "      <td>7.526100e+07</td>\n",
       "      <td>16500.0</td>\n",
       "      <td>16.890687</td>\n",
       "      <td>23.136313</td>\n",
       "      <td>1.0</td>\n",
       "      <td>6.977676</td>\n",
       "      <td>1.0</td>\n",
       "      <td>2.623624e+06</td>\n",
       "      <td>2.0</td>\n",
       "      <td>1.0</td>\n",
       "      <td>59.237366</td>\n",
       "      <td>0.319294</td>\n",
       "      <td>0.658715</td>\n",
       "      <td>0.154</td>\n",
       "    </tr>\n",
       "    <tr>\n",
       "      <th>2</th>\n",
       "      <td>1.396000e+05</td>\n",
       "      <td>53525.0</td>\n",
       "      <td>18.390090</td>\n",
       "      <td>23.139910</td>\n",
       "      <td>7.0</td>\n",
       "      <td>3.371067</td>\n",
       "      <td>2.0</td>\n",
       "      <td>1.656589e+09</td>\n",
       "      <td>6.0</td>\n",
       "      <td>3.0</td>\n",
       "      <td>81.300000</td>\n",
       "      <td>0.021490</td>\n",
       "      <td>0.000573</td>\n",
       "      <td>0.900</td>\n",
       "    </tr>\n",
       "    <tr>\n",
       "      <th>3</th>\n",
       "      <td>2.758812e+08</td>\n",
       "      <td>1518650.0</td>\n",
       "      <td>50.966885</td>\n",
       "      <td>24.522427</td>\n",
       "      <td>5.0</td>\n",
       "      <td>1.374906</td>\n",
       "      <td>2.0</td>\n",
       "      <td>6.625072e+08</td>\n",
       "      <td>5.0</td>\n",
       "      <td>2.0</td>\n",
       "      <td>81.373197</td>\n",
       "      <td>0.445426</td>\n",
       "      <td>0.380940</td>\n",
       "      <td>0.760</td>\n",
       "    </tr>\n",
       "    <tr>\n",
       "      <th>4</th>\n",
       "      <td>3.400000e+04</td>\n",
       "      <td>53525.0</td>\n",
       "      <td>5.311885</td>\n",
       "      <td>30.271115</td>\n",
       "      <td>7.0</td>\n",
       "      <td>-0.044229</td>\n",
       "      <td>2.0</td>\n",
       "      <td>2.832808e+07</td>\n",
       "      <td>5.0</td>\n",
       "      <td>2.0</td>\n",
       "      <td>73.193561</td>\n",
       "      <td>0.323529</td>\n",
       "      <td>0.499706</td>\n",
       "      <td>0.350</td>\n",
       "    </tr>\n",
       "    <tr>\n",
       "      <th>5</th>\n",
       "      <td>7.835600e+07</td>\n",
       "      <td>612800.0</td>\n",
       "      <td>37.699524</td>\n",
       "      <td>34.134476</td>\n",
       "      <td>2.0</td>\n",
       "      <td>8.891570</td>\n",
       "      <td>1.0</td>\n",
       "      <td>1.166004e+08</td>\n",
       "      <td>5.0</td>\n",
       "      <td>1.0</td>\n",
       "      <td>74.862439</td>\n",
       "      <td>0.499032</td>\n",
       "      <td>0.148224</td>\n",
       "      <td>0.450</td>\n",
       "    </tr>\n",
       "    <tr>\n",
       "      <th>6</th>\n",
       "      <td>2.846040e+09</td>\n",
       "      <td>5032780.0</td>\n",
       "      <td>32.853558</td>\n",
       "      <td>37.469387</td>\n",
       "      <td>4.0</td>\n",
       "      <td>2.773339</td>\n",
       "      <td>2.0</td>\n",
       "      <td>4.702241e+08</td>\n",
       "      <td>5.0</td>\n",
       "      <td>1.0</td>\n",
       "      <td>76.569368</td>\n",
       "      <td>0.294847</td>\n",
       "      <td>0.379839</td>\n",
       "      <td>0.640</td>\n",
       "    </tr>\n",
       "    <tr>\n",
       "      <th>7</th>\n",
       "      <td>5.490910e+07</td>\n",
       "      <td>325600.0</td>\n",
       "      <td>24.582761</td>\n",
       "      <td>54.237239</td>\n",
       "      <td>5.0</td>\n",
       "      <td>1.955685</td>\n",
       "      <td>1.0</td>\n",
       "      <td>4.093085e+08</td>\n",
       "      <td>5.0</td>\n",
       "      <td>2.0</td>\n",
       "      <td>81.968293</td>\n",
       "      <td>0.526820</td>\n",
       "      <td>0.304076</td>\n",
       "      <td>0.810</td>\n",
       "    </tr>\n",
       "    <tr>\n",
       "      <th>8</th>\n",
       "      <td>3.571700e+07</td>\n",
       "      <td>186450.0</td>\n",
       "      <td>18.091168</td>\n",
       "      <td>56.596832</td>\n",
       "      <td>5.0</td>\n",
       "      <td>2.008491</td>\n",
       "      <td>2.0</td>\n",
       "      <td>1.110775e+09</td>\n",
       "      <td>5.0</td>\n",
       "      <td>2.0</td>\n",
       "      <td>80.892683</td>\n",
       "      <td>0.478109</td>\n",
       "      <td>0.327452</td>\n",
       "      <td>0.820</td>\n",
       "    </tr>\n",
       "    <tr>\n",
       "      <th>9</th>\n",
       "      <td>7.160000e+04</td>\n",
       "      <td>147600.0</td>\n",
       "      <td>51.288344</td>\n",
       "      <td>48.711656</td>\n",
       "      <td>7.0</td>\n",
       "      <td>4.528651</td>\n",
       "      <td>2.0</td>\n",
       "      <td>6.353061e+08</td>\n",
       "      <td>5.0</td>\n",
       "      <td>1.0</td>\n",
       "      <td>81.995122</td>\n",
       "      <td>0.010340</td>\n",
       "      <td>0.231586</td>\n",
       "      <td>0.720</td>\n",
       "    </tr>\n",
       "  </tbody>\n",
       "</table>\n",
       "</div>"
      ],
      "text/plain": [
       "   surface_area  armed_forces_total  urban_pop_major_cities  \\\n",
       "0  1.205400e+07           1379000.0               55.747169   \n",
       "1  7.526100e+07             16500.0               16.890687   \n",
       "2  1.396000e+05             53525.0               18.390090   \n",
       "3  2.758812e+08           1518650.0               50.966885   \n",
       "4  3.400000e+04             53525.0                5.311885   \n",
       "5  7.835600e+07            612800.0               37.699524   \n",
       "6  2.846040e+09           5032780.0               32.853558   \n",
       "7  5.490910e+07            325600.0               24.582761   \n",
       "8  3.571700e+07            186450.0               18.091168   \n",
       "9  7.160000e+04            147600.0               51.288344   \n",
       "\n",
       "   urban_pop_minor_cities  national_income  inflation_annual  \\\n",
       "0                4.688831              7.0          3.371067   \n",
       "1               23.136313              1.0          6.977676   \n",
       "2               23.139910              7.0          3.371067   \n",
       "3               24.522427              5.0          1.374906   \n",
       "4               30.271115              7.0         -0.044229   \n",
       "5               34.134476              2.0          8.891570   \n",
       "6               37.469387              4.0          2.773339   \n",
       "7               54.237239              5.0          1.955685   \n",
       "8               56.596832              5.0          2.008491   \n",
       "9               48.711656              7.0          4.528651   \n",
       "\n",
       "   mobile_subscriptions  secure_internet_servers_total  improved_sanitation  \\\n",
       "0                   1.0                   2.671228e+07                  4.0   \n",
       "1                   1.0                   2.623624e+06                  2.0   \n",
       "2                   2.0                   1.656589e+09                  6.0   \n",
       "3                   2.0                   6.625072e+08                  5.0   \n",
       "4                   2.0                   2.832808e+07                  5.0   \n",
       "5                   1.0                   1.166004e+08                  5.0   \n",
       "6                   2.0                   4.702241e+08                  5.0   \n",
       "7                   1.0                   4.093085e+08                  5.0   \n",
       "8                   2.0                   1.110775e+09                  5.0   \n",
       "9                   2.0                   6.353061e+08                  5.0   \n",
       "\n",
       "   women_parliament_seats_rate  life_expectancy  agricultural_portion  \\\n",
       "0                          1.0        69.494195              0.218420   \n",
       "1                          1.0        59.237366              0.319294   \n",
       "2                          3.0        81.300000              0.021490   \n",
       "3                          2.0        81.373197              0.445426   \n",
       "4                          2.0        73.193561              0.323529   \n",
       "5                          1.0        74.862439              0.499032   \n",
       "6                          1.0        76.569368              0.294847   \n",
       "7                          2.0        81.968293              0.526820   \n",
       "8                          2.0        80.892683              0.478109   \n",
       "9                          1.0        81.995122              0.010340   \n",
       "\n",
       "   forest_portion  percent_internet_users  \n",
       "0        0.449464                   0.000  \n",
       "1        0.658715                   0.154  \n",
       "2        0.000573                   0.900  \n",
       "3        0.380940                   0.760  \n",
       "4        0.499706                   0.350  \n",
       "5        0.148224                   0.450  \n",
       "6        0.379839                   0.640  \n",
       "7        0.304076                   0.810  \n",
       "8        0.327452                   0.820  \n",
       "9        0.231586                   0.720  "
      ]
     },
     "execution_count": 32,
     "metadata": {},
     "output_type": "execute_result"
    }
   ],
   "source": [
    "df3.head(10)"
   ]
  },
  {
   "cell_type": "markdown",
   "metadata": {},
   "source": [
    "## Visualization, Modeling, Machine Learning\n",
    "\n",
    " Can you construct a reliable model that predicts the life expectancy of an area (country, region, group of countries) using socioeconomic variables and identify how different features influence their decision? \n",
    " \n",
    " Please explain your findings effectively to technical and non-technical audiences using comments and visualizations, if appropriate.\n",
    "- **Build an optimized model that effectively solves the business problem.**\n",
    "- **The model would be evaluated on the basis of Mean Absolute Error.**\n",
    "- **Read the Test.csv file and prepare features for testing.**"
   ]
  },
  {
   "cell_type": "code",
   "execution_count": 33,
   "metadata": {},
   "outputs": [],
   "source": [
    "def plot_histogram(x):\n",
    "    plt.hist(x, color='gray', edgecolor='black', alpha=0.8)\n",
    "    plt.title(\"Histogram of '{var_name}'\".format(var_name=x.name))\n",
    "    plt.xlabel(\"Value\")\n",
    "    plt.ylabel(\"Frequency\")\n",
    "    plt.show()"
   ]
  },
  {
   "cell_type": "code",
   "execution_count": 34,
   "metadata": {},
   "outputs": [
    {
     "data": {
      "image/png": "[encoded data removed]",
      "text/plain": [
       "<Figure size 432x288 with 1 Axes>"
      ]
     },
     "metadata": {
      "needs_background": "light"
     },
     "output_type": "display_data"
    }
   ],
   "source": [
    "# Plot distribution of traget (outcome) variable in the training data\n",
    "plot_histogram(df3['life_expectancy'])"
   ]
  },
  {
   "cell_type": "code",
   "execution_count": 35,
   "metadata": {},
   "outputs": [
    {
     "data": {
      "text/html": [
       "<div>\n",
       "<style scoped>\n",
       "    .dataframe tbody tr th:only-of-type {\n",
       "        vertical-align: middle;\n",
       "    }\n",
       "\n",
       "    .dataframe tbody tr th {\n",
       "        vertical-align: top;\n",
       "    }\n",
       "\n",
       "    .dataframe thead th {\n",
       "        text-align: right;\n",
       "    }\n",
       "</style>\n",
       "<table border=\"1\" class=\"dataframe\">\n",
       "  <thead>\n",
       "    <tr style=\"text-align: right;\">\n",
       "      <th></th>\n",
       "      <th>surface_area</th>\n",
       "      <th>agricultural_land</th>\n",
       "      <th>forest_area</th>\n",
       "      <th>armed_forces_total</th>\n",
       "      <th>urban_pop_major_cities</th>\n",
       "      <th>urban_pop_minor_cities</th>\n",
       "      <th>national_income</th>\n",
       "      <th>inflation_annual</th>\n",
       "      <th>inflation_monthly</th>\n",
       "      <th>inflation_weekly</th>\n",
       "      <th>mobile_subscriptions</th>\n",
       "      <th>internet_users</th>\n",
       "      <th>secure_internet_servers_total</th>\n",
       "      <th>improved_sanitation</th>\n",
       "      <th>women_parliament_seats_rate</th>\n",
       "    </tr>\n",
       "  </thead>\n",
       "  <tbody>\n",
       "    <tr>\n",
       "      <th>9</th>\n",
       "      <td>322460.0</td>\n",
       "      <td>2.088892e+07</td>\n",
       "      <td>1.054769e+07</td>\n",
       "      <td>NaN</td>\n",
       "      <td>0.846584</td>\n",
       "      <td>51.919416</td>\n",
       "      <td>low</td>\n",
       "      <td>2.569961</td>\n",
       "      <td>NaN</td>\n",
       "      <td>NaN</td>\n",
       "      <td>less than 1 per person</td>\n",
       "      <td>84 per 1000 people</td>\n",
       "      <td>1849926.0</td>\n",
       "      <td>very low access</td>\n",
       "      <td>[0%-25%)</td>\n",
       "    </tr>\n",
       "    <tr>\n",
       "      <th>16</th>\n",
       "      <td>513120.0</td>\n",
       "      <td>2.220651e+07</td>\n",
       "      <td>1.641032e+07</td>\n",
       "      <td>453550.0</td>\n",
       "      <td>42.139810</td>\n",
       "      <td>5.803190</td>\n",
       "      <td>low</td>\n",
       "      <td>2.184886</td>\n",
       "      <td>NaN</td>\n",
       "      <td>NaN</td>\n",
       "      <td>more than 1 per person</td>\n",
       "      <td>289 per 1000 people</td>\n",
       "      <td>17983312.0</td>\n",
       "      <td>very high access</td>\n",
       "      <td>[0%-25%)</td>\n",
       "    </tr>\n",
       "    <tr>\n",
       "      <th>19</th>\n",
       "      <td>18580.0</td>\n",
       "      <td>1.872230e+05</td>\n",
       "      <td>8.527691e+05</td>\n",
       "      <td>NaN</td>\n",
       "      <td>1.699056</td>\n",
       "      <td>67.396944</td>\n",
       "      <td>unknown</td>\n",
       "      <td>NaN</td>\n",
       "      <td>NaN</td>\n",
       "      <td>NaN</td>\n",
       "      <td>less than 1 per person</td>\n",
       "      <td>66 per 100 people</td>\n",
       "      <td>240458015.0</td>\n",
       "      <td>very high access</td>\n",
       "      <td>unknown</td>\n",
       "    </tr>\n",
       "    <tr>\n",
       "      <th>23</th>\n",
       "      <td>112490.0</td>\n",
       "      <td>3.252347e+06</td>\n",
       "      <td>4.857911e+06</td>\n",
       "      <td>20000.0</td>\n",
       "      <td>48.602426</td>\n",
       "      <td>4.934574</td>\n",
       "      <td>low</td>\n",
       "      <td>NaN</td>\n",
       "      <td>0.430158</td>\n",
       "      <td>NaN</td>\n",
       "      <td>less than 1 per person</td>\n",
       "      <td>178 per 1000 people</td>\n",
       "      <td>9427882.0</td>\n",
       "      <td>high access</td>\n",
       "      <td>[0%-25%)</td>\n",
       "    </tr>\n",
       "    <tr>\n",
       "      <th>28</th>\n",
       "      <td>783560.0</td>\n",
       "      <td>3.911844e+07</td>\n",
       "      <td>1.171853e+07</td>\n",
       "      <td>612800.0</td>\n",
       "      <td>43.734006</td>\n",
       "      <td>28.635994</td>\n",
       "      <td>medium low</td>\n",
       "      <td>NaN</td>\n",
       "      <td>0.624424</td>\n",
       "      <td>NaN</td>\n",
       "      <td>less than 1 per person</td>\n",
       "      <td>46 per 100 people</td>\n",
       "      <td>50379814.0</td>\n",
       "      <td>very high access</td>\n",
       "      <td>[0%-25%)</td>\n",
       "    </tr>\n",
       "  </tbody>\n",
       "</table>\n",
       "</div>"
      ],
      "text/plain": [
       "    surface_area  agricultural_land   forest_area  armed_forces_total  \\\n",
       "9       322460.0       2.088892e+07  1.054769e+07                 NaN   \n",
       "16      513120.0       2.220651e+07  1.641032e+07            453550.0   \n",
       "19       18580.0       1.872230e+05  8.527691e+05                 NaN   \n",
       "23      112490.0       3.252347e+06  4.857911e+06             20000.0   \n",
       "28      783560.0       3.911844e+07  1.171853e+07            612800.0   \n",
       "\n",
       "    urban_pop_major_cities  urban_pop_minor_cities national_income  \\\n",
       "9                 0.846584               51.919416             low   \n",
       "16               42.139810                5.803190             low   \n",
       "19                1.699056               67.396944         unknown   \n",
       "23               48.602426                4.934574             low   \n",
       "28               43.734006               28.635994      medium low   \n",
       "\n",
       "    inflation_annual  inflation_monthly  inflation_weekly  \\\n",
       "9           2.569961                NaN               NaN   \n",
       "16          2.184886                NaN               NaN   \n",
       "19               NaN                NaN               NaN   \n",
       "23               NaN           0.430158               NaN   \n",
       "28               NaN           0.624424               NaN   \n",
       "\n",
       "      mobile_subscriptions       internet_users  \\\n",
       "9   less than 1 per person   84 per 1000 people   \n",
       "16  more than 1 per person  289 per 1000 people   \n",
       "19  less than 1 per person    66 per 100 people   \n",
       "23  less than 1 per person  178 per 1000 people   \n",
       "28  less than 1 per person    46 per 100 people   \n",
       "\n",
       "    secure_internet_servers_total improved_sanitation  \\\n",
       "9                       1849926.0     very low access   \n",
       "16                     17983312.0    very high access   \n",
       "19                    240458015.0    very high access   \n",
       "23                      9427882.0         high access   \n",
       "28                     50379814.0    very high access   \n",
       "\n",
       "   women_parliament_seats_rate  \n",
       "9                     [0%-25%)  \n",
       "16                    [0%-25%)  \n",
       "19                     unknown  \n",
       "23                    [0%-25%)  \n",
       "28                    [0%-25%)  "
      ]
     },
     "execution_count": 35,
     "metadata": {},
     "output_type": "execute_result"
    }
   ],
   "source": [
    "#Loading Test data\n",
    "test_data=pd.read_csv('test.csv',index_col=0)\n",
    "test_data.head()"
   ]
  },
  {
   "cell_type": "code",
   "execution_count": 37,
   "metadata": {},
   "outputs": [
    {
     "data": {
      "text/html": [
       "<div>\n",
       "<style scoped>\n",
       "    .dataframe tbody tr th:only-of-type {\n",
       "        vertical-align: middle;\n",
       "    }\n",
       "\n",
       "    .dataframe tbody tr th {\n",
       "        vertical-align: top;\n",
       "    }\n",
       "\n",
       "    .dataframe thead th {\n",
       "        text-align: right;\n",
       "    }\n",
       "</style>\n",
       "<table border=\"1\" class=\"dataframe\">\n",
       "  <thead>\n",
       "    <tr style=\"text-align: right;\">\n",
       "      <th></th>\n",
       "      <th>surface_area</th>\n",
       "      <th>armed_forces_total</th>\n",
       "      <th>urban_pop_major_cities</th>\n",
       "      <th>urban_pop_minor_cities</th>\n",
       "      <th>national_income</th>\n",
       "      <th>inflation_annual</th>\n",
       "      <th>mobile_subscriptions</th>\n",
       "      <th>secure_internet_servers_total</th>\n",
       "      <th>improved_sanitation</th>\n",
       "      <th>women_parliament_seats_rate</th>\n",
       "      <th>agricultural_portion</th>\n",
       "      <th>forest_portion</th>\n",
       "      <th>percent_internet_users</th>\n",
       "    </tr>\n",
       "  </thead>\n",
       "  <tbody>\n",
       "    <tr>\n",
       "      <th>0</th>\n",
       "      <td>32246000.0</td>\n",
       "      <td>50800.0</td>\n",
       "      <td>0.846584</td>\n",
       "      <td>51.919416</td>\n",
       "      <td>3.0</td>\n",
       "      <td>2.569961</td>\n",
       "      <td>1.0</td>\n",
       "      <td>1849926.0</td>\n",
       "      <td>1.0</td>\n",
       "      <td>1.0</td>\n",
       "      <td>0.647799</td>\n",
       "      <td>0.327101</td>\n",
       "      <td>0.084</td>\n",
       "    </tr>\n",
       "    <tr>\n",
       "      <th>1</th>\n",
       "      <td>51312000.0</td>\n",
       "      <td>453550.0</td>\n",
       "      <td>42.139810</td>\n",
       "      <td>5.803190</td>\n",
       "      <td>3.0</td>\n",
       "      <td>2.184886</td>\n",
       "      <td>2.0</td>\n",
       "      <td>17983312.0</td>\n",
       "      <td>5.0</td>\n",
       "      <td>1.0</td>\n",
       "      <td>0.432774</td>\n",
       "      <td>0.319814</td>\n",
       "      <td>0.289</td>\n",
       "    </tr>\n",
       "    <tr>\n",
       "      <th>2</th>\n",
       "      <td>1858000.0</td>\n",
       "      <td>50800.0</td>\n",
       "      <td>1.699056</td>\n",
       "      <td>67.396944</td>\n",
       "      <td>7.0</td>\n",
       "      <td>3.009844</td>\n",
       "      <td>1.0</td>\n",
       "      <td>240458015.0</td>\n",
       "      <td>5.0</td>\n",
       "      <td>3.0</td>\n",
       "      <td>0.100766</td>\n",
       "      <td>0.458972</td>\n",
       "      <td>0.660</td>\n",
       "    </tr>\n",
       "    <tr>\n",
       "      <th>3</th>\n",
       "      <td>11249000.0</td>\n",
       "      <td>20000.0</td>\n",
       "      <td>48.602426</td>\n",
       "      <td>4.934574</td>\n",
       "      <td>3.0</td>\n",
       "      <td>5.161899</td>\n",
       "      <td>1.0</td>\n",
       "      <td>9427882.0</td>\n",
       "      <td>4.0</td>\n",
       "      <td>1.0</td>\n",
       "      <td>0.289123</td>\n",
       "      <td>0.431853</td>\n",
       "      <td>0.178</td>\n",
       "    </tr>\n",
       "    <tr>\n",
       "      <th>4</th>\n",
       "      <td>78356000.0</td>\n",
       "      <td>612800.0</td>\n",
       "      <td>43.734006</td>\n",
       "      <td>28.635994</td>\n",
       "      <td>2.0</td>\n",
       "      <td>7.493090</td>\n",
       "      <td>1.0</td>\n",
       "      <td>50379814.0</td>\n",
       "      <td>5.0</td>\n",
       "      <td>1.0</td>\n",
       "      <td>0.499240</td>\n",
       "      <td>0.149555</td>\n",
       "      <td>0.460</td>\n",
       "    </tr>\n",
       "  </tbody>\n",
       "</table>\n",
       "</div>"
      ],
      "text/plain": [
       "   surface_area  armed_forces_total  urban_pop_major_cities  \\\n",
       "0    32246000.0             50800.0                0.846584   \n",
       "1    51312000.0            453550.0               42.139810   \n",
       "2     1858000.0             50800.0                1.699056   \n",
       "3    11249000.0             20000.0               48.602426   \n",
       "4    78356000.0            612800.0               43.734006   \n",
       "\n",
       "   urban_pop_minor_cities  national_income  inflation_annual  \\\n",
       "0               51.919416              3.0          2.569961   \n",
       "1                5.803190              3.0          2.184886   \n",
       "2               67.396944              7.0          3.009844   \n",
       "3                4.934574              3.0          5.161899   \n",
       "4               28.635994              2.0          7.493090   \n",
       "\n",
       "   mobile_subscriptions  secure_internet_servers_total  improved_sanitation  \\\n",
       "0                   1.0                      1849926.0                  1.0   \n",
       "1                   2.0                     17983312.0                  5.0   \n",
       "2                   1.0                    240458015.0                  5.0   \n",
       "3                   1.0                      9427882.0                  4.0   \n",
       "4                   1.0                     50379814.0                  5.0   \n",
       "\n",
       "   women_parliament_seats_rate  agricultural_portion  forest_portion  \\\n",
       "0                          1.0              0.647799        0.327101   \n",
       "1                          1.0              0.432774        0.319814   \n",
       "2                          3.0              0.100766        0.458972   \n",
       "3                          1.0              0.289123        0.431853   \n",
       "4                          1.0              0.499240        0.149555   \n",
       "\n",
       "   percent_internet_users  \n",
       "0                   0.084  \n",
       "1                   0.289  \n",
       "2                   0.660  \n",
       "3                   0.178  \n",
       "4                   0.460  "
      ]
     },
     "execution_count": 37,
     "metadata": {},
     "output_type": "execute_result"
    }
   ],
   "source": [
    "# Create a copy of test dataframe\n",
    "tdf = test_data.copy()\n",
    "\n",
    "# Step 1: Multiply 'surface_area' by 100\n",
    "tdf['surface_area'] = tdf['surface_area'] * 100\n",
    "\n",
    "# Step 2: Creates new variables \n",
    "tdf['agricultural_portion'] = tdf['agricultural_land'] / tdf['surface_area'] \n",
    "tdf['forest_portion'] = tdf['forest_area'] / tdf['surface_area']\n",
    "\n",
    "# Step 3: Remove 'agricultural_land' and 'forest_area' colums from dataset\n",
    "tdf.drop(['agricultural_land', 'forest_area'], axis=1, inplace=True)\n",
    "\n",
    "# Step 4: Replace missing values in column 'inflation_annual' with information from\n",
    "# columns 'inflation_monthly' & 'inflation_weekly'\n",
    "\n",
    "for i in tdf.index:\n",
    "    if np.isnan(tdf.loc[i, 'inflation_annual']):\n",
    "        if np.isnan(tdf.loc[i, 'inflation_monthly']):\n",
    "            tdf.loc[i, 'inflation_annual'] = 52 * tdf.loc[i, 'inflation_weekly']\n",
    "        else:\n",
    "            tdf.loc[i, 'inflation_annual'] = 12 * tdf.loc[i, 'inflation_monthly']\n",
    "\n",
    "# Step5: Remove columns 'inflation_monthly' & 'inflation_weekly'\n",
    "tdf.drop(['inflation_monthly', 'inflation_weekly'], axis=1, inplace=True)\n",
    "\n",
    "# Step6: Convert 'internet_users' column to associated percentages\n",
    "variable_split = tdf['internet_users'].str.split()\n",
    "tdf['percent_internet_users'] = (pd.to_numeric(variable_split.str.get(0), errors='coerce') / \n",
    "                          pd.to_numeric(variable_split.str.get(2), errors='coerce'))\n",
    "\n",
    "# Step 7: Remove 'internet_users' column\n",
    "tdf.drop('internet_users', axis=1, inplace=True)\n",
    "\n",
    "# Step 8: Assign \"mobile_subscriptions\" values to 1 if mobile subscriptions is\n",
    "# less than 1 per person, otherwise 2:\n",
    "tdf['mobile_subscriptions'] = [1 if x == 'less than 1 per person' else 2 for x in tdf['mobile_subscriptions']]\n",
    "\n",
    "# Step 9: Assign \"women_parliament_seats_rate\" to 1 if women _parliament seat _rate is\n",
    "# [0%-25%), 2 if it is [25%-75%), or 3 if unknown:\n",
    "\n",
    "tdf['women_parliament_seats_rate'] = (\n",
    "    tdf['women_parliament_seats_rate'].replace('[0%-25%)', 1))\n",
    "tdf['women_parliament_seats_rate'] = (\n",
    "    tdf['women_parliament_seats_rate'].replace('[25%-50%)', 2))\n",
    "tdf['women_parliament_seats_rate'] = (\n",
    "    tdf['women_parliament_seats_rate'].replace('[50%-75%)', 2))\n",
    "tdf['women_parliament_seats_rate'] = (\n",
    "    tdf['women_parliament_seats_rate'].replace('unknown', 3))\n",
    "\n",
    "# Step 10: Assign numeric values to the levels of \"national_income\" (ordinal variable):\n",
    "mapper_1 = {'very low': 1, 'medium low': 2, 'low': 3,\n",
    "            'medium high': 4, 'high': 5, 'very high': 6,\n",
    "            'unknown': 7}\n",
    "tdf['national_income'].replace(mapper_1, inplace=True)\n",
    "\n",
    "# Step 11: Assign numeric values to the levels of \"improved_sanitation\" (Ordinal Variable):\n",
    "mapper_2 = {'very low access': 1, 'low access': 2, 'medium access': 3,\n",
    "            'high access': 4, 'very high access': 5, 'no info': 6}\n",
    "tdf['improved_sanitation'].replace(mapper_2, inplace=True)\n",
    "\n",
    "# Step12: Impute missing values using Imputer in sklearn.preprocessing\n",
    "imp = SimpleImputer(missing_values=np.nan, strategy='median')\n",
    "imp.fit(tdf)\n",
    "tdf = pd.DataFrame(data=imp.transform(tdf) , columns=tdf.columns)\n",
    "\n",
    "# Show the first 5 rows of tdf\n",
    "tdf.head()"
   ]
  },
  {
   "cell_type": "markdown",
   "metadata": {},
   "source": [
    "## Random Forest Regression"
   ]
  },
  {
   "cell_type": "code",
   "execution_count": 38,
   "metadata": {},
   "outputs": [
    {
     "data": {
      "text/plain": [
       "0    69.494195\n",
       "1    59.237366\n",
       "2    81.300000\n",
       "3    81.373197\n",
       "4    73.193561\n",
       "Name: life_expectancy, dtype: float64"
      ]
     },
     "execution_count": 38,
     "metadata": {},
     "output_type": "execute_result"
    }
   ],
   "source": [
    "# Create outcome and input DataFrames\n",
    "y = df3['life_expectancy'] \n",
    "X = df3.drop('life_expectancy', axis=1)\n",
    "y.head()"
   ]
  },
  {
   "cell_type": "code",
   "execution_count": 39,
   "metadata": {},
   "outputs": [],
   "source": [
    "# Create train and validation datasets to build the Random Forest (RF) regression \n",
    "# model and find the best set of the model parameters \n",
    "\n",
    "#X_train, X_validation, y_train, y_validation= train_test_split(X, y,\n",
    "#                                                   random_state = 0)"
   ]
  },
  {
   "cell_type": "code",
   "execution_count": 40,
   "metadata": {},
   "outputs": [
    {
     "name": "stdout",
     "output_type": "stream",
     "text": [
      "Number of Estimators: 50\n",
      "Max features: 8\n",
      "Max Depth: 7\n",
      "Min Split: 2\n",
      "Min Leaf: 1\n",
      "Best Mean Absolute Error: 2.540\n"
     ]
    }
   ],
   "source": [
    "# Use 'Grid Search' to find the best set of RF regression parameters \n",
    "# using full dataset with criterion = 'mean absolute error' (mae) and \n",
    "# random_state = 33\n",
    "\n",
    "n_estimators = [50, 100, 150, 200]\n",
    "max_features = [4, 8, 13]\n",
    "max_depth = [5, 6, 7]\n",
    "min_split = [2, 3, 4] \n",
    "min_leaf = [1, 2, 3]\n",
    "best_score = 100\n",
    "\n",
    "for n in n_estimators:\n",
    "    for f in max_features:\n",
    "        for d in max_depth:\n",
    "            for s in min_split:   \n",
    "                for l in min_leaf:\n",
    "                    rf = RandomForestRegressor(\n",
    "                     n_estimators = n, \n",
    "                     criterion = 'mae', \n",
    "                     max_features= f,\n",
    "                     random_state = 33, \n",
    "                     oob_score = False,\n",
    "                     max_depth = d, \n",
    "                     min_samples_split = s, \n",
    "                     min_samples_leaf = l)\n",
    "                    rf.fit (X, y)    \n",
    "                    y_model = rf.predict(X)\n",
    "                    #score = mean_absolute_error(y, y_model)\n",
    "                    score = - np.mean(cross_val_score(rf, X, y, cv=4, scoring = 'neg_mean_absolute_error'))\n",
    "                    if score <= best_score:\n",
    "                        best_score = score\n",
    "                        max_n = n\n",
    "                        max_f = f\n",
    "                        max_d = d\n",
    "                        max_s = s\n",
    "                        max_l = l\n",
    "\n",
    "\n",
    "print (\"Number of Estimators:\", max_n)               \n",
    "print (\"Max features:\", max_f)\n",
    "print (\"Max Depth:\", max_d)\n",
    "print (\"Min Split:\", max_s)\n",
    "print (\"Min Leaf:\", max_l)\n",
    "print(\"Best Mean Absolute Error: {:.3f}\".format(best_score))"
   ]
  },
  {
   "cell_type": "code",
   "execution_count": 41,
   "metadata": {},
   "outputs": [
    {
     "name": "stdout",
     "output_type": "stream",
     "text": [
      "2.539969056127632\n"
     ]
    }
   ],
   "source": [
    "print(best_score)"
   ]
  },
  {
   "cell_type": "code",
   "execution_count": 42,
   "metadata": {},
   "outputs": [],
   "source": [
    "from sklearn.model_selection import GridSearchCV\n",
    "parameters = {'max_depth' : (5, 6, 7)\n",
    "              ,'max_features' : (4, 8, 13)\n",
    "              ,'min_samples_leaf' : (1, 2, 3)\n",
    "              ,'min_samples_split' : (2, 3, 4)\n",
    "              ,'n_estimators' : (50, 100, 150, 200)}\n",
    "rf1 = GridSearchCV(RandomForestRegressor(\n",
    "                     criterion = 'mae', \n",
    "                     random_state = 33, \n",
    "                     oob_score = False),\n",
    "                   param_grid = parameters,\n",
    "                   cv =4,\n",
    "                   verbose = True)"
   ]
  },
  {
   "cell_type": "code",
   "execution_count": 43,
   "metadata": {},
   "outputs": [
    {
     "name": "stdout",
     "output_type": "stream",
     "text": [
      "Fitting 4 folds for each of 324 candidates, totalling 1296 fits\n"
     ]
    }
   ],
   "source": [
    "rf1_model = rf1.fit(X, y)"
   ]
  },
  {
   "cell_type": "code",
   "execution_count": 44,
   "metadata": {},
   "outputs": [
    {
     "data": {
      "text/plain": [
       "RandomForestRegressor(criterion='mae', max_depth=7, max_features=8,\n",
       "                      random_state=33)"
      ]
     },
     "execution_count": 44,
     "metadata": {},
     "output_type": "execute_result"
    }
   ],
   "source": [
    "rf1_model.best_estimator_"
   ]
  },
  {
   "cell_type": "code",
   "execution_count": 45,
   "metadata": {},
   "outputs": [
    {
     "data": {
      "text/plain": [
       "0.796719447875297"
      ]
     },
     "execution_count": 45,
     "metadata": {},
     "output_type": "execute_result"
    }
   ],
   "source": [
    "rf1_model.best_score_"
   ]
  },
  {
   "cell_type": "code",
   "execution_count": 46,
   "metadata": {},
   "outputs": [
    {
     "data": {
      "text/plain": [
       "{'max_depth': 7,\n",
       " 'max_features': 8,\n",
       " 'min_samples_leaf': 1,\n",
       " 'min_samples_split': 2,\n",
       " 'n_estimators': 100}"
      ]
     },
     "execution_count": 46,
     "metadata": {},
     "output_type": "execute_result"
    }
   ],
   "source": [
    "rf1_model.best_params_"
   ]
  },
  {
   "cell_type": "code",
   "execution_count": 47,
   "metadata": {},
   "outputs": [
    {
     "data": {
      "text/plain": [
       "RandomForestRegressor(criterion='mae', max_depth=7, max_features=8,\n",
       "                      random_state=33)"
      ]
     },
     "execution_count": 47,
     "metadata": {},
     "output_type": "execute_result"
    }
   ],
   "source": [
    "# clearly, this one is no better than the former one.\n",
    "# Fit a RF using best indentified parameters\n",
    "rf = RandomForestRegressor(criterion = 'mae'\n",
    "                           , random_state = 33\n",
    "                           , max_depth=7\n",
    "                           , max_features=8\n",
    "                           , min_samples_leaf=1\n",
    "                           , min_samples_split=2\n",
    "                           , n_estimators=100)\n",
    "\n",
    "rf.fit(X, y)"
   ]
  },
  {
   "cell_type": "code",
   "execution_count": 48,
   "metadata": {},
   "outputs": [
    {
     "data": {
      "text/plain": [
       "array([60.95521233, 72.36269538, 77.45200135, 70.13986823, 73.99480565,\n",
       "       68.26092015, 74.54507497, 67.81746819, 72.481391  , 72.78530662,\n",
       "       76.94771665, 79.72520294, 60.22303955, 59.41762307, 81.66312683,\n",
       "       74.69370193, 74.7550796 , 75.3089078 , 76.1614448 , 63.49115377,\n",
       "       63.53540934, 73.66034761, 73.89014027, 77.52634352, 74.0564855 ,\n",
       "       71.38978557, 57.66910175, 81.39429166, 81.05823576, 79.12222845,\n",
       "       74.35877357, 62.31669605, 59.50176472, 61.6589037 , 81.19614774,\n",
       "       80.04004682, 77.10195095, 79.93701169, 76.06789444, 80.50504461,\n",
       "       74.13551638, 66.78384151, 61.43097222, 62.06891153, 58.18963117,\n",
       "       76.87484093, 69.22435151, 64.99861032, 57.93074281, 77.49838138,\n",
       "       75.08354729, 74.14849801, 65.49952048, 81.06219156, 58.04906738,\n",
       "       78.33744481, 80.90431656, 60.75851408, 72.92321286, 66.2752132 ,\n",
       "       70.87486608, 73.23645265, 56.55765396, 71.51642979, 72.18304175,\n",
       "       60.48683895, 62.77551482, 58.84844905, 74.35817498, 66.23386571,\n",
       "       62.20008547, 72.61343715, 60.70355028, 74.05312947, 59.39583356,\n",
       "       61.14485359, 80.06105767, 71.58412438, 73.64878805, 76.82020299,\n",
       "       76.98661937, 74.34385092, 74.98286815, 69.16029171, 71.71904214,\n",
       "       69.78848201, 65.33103281, 77.49021818, 80.85148285, 74.03678245,\n",
       "       81.59127974, 68.75184285, 72.32413839, 63.48793659, 63.01482165,\n",
       "       56.25426769, 77.12736089, 71.2082662 , 68.55829418, 65.30217639])"
      ]
     },
     "execution_count": 48,
     "metadata": {},
     "output_type": "execute_result"
    }
   ],
   "source": [
    "# Pridict test instances using test dataframe (tdf)\n",
    "y_test = rf.predict(tdf)\n",
    "y_test"
   ]
  },
  {
   "cell_type": "code",
   "execution_count": 49,
   "metadata": {},
   "outputs": [
    {
     "name": "stdout",
     "output_type": "stream",
     "text": [
      "Test : 1.000\n",
      "Train : 0.944\n"
     ]
    }
   ],
   "source": [
    "print(f'Test : {rf1_model.score(tdf, y_test):.3f}')\n",
    "print(f'Train : {rf1_model.score(X, y):.3f}')"
   ]
  },
  {
   "cell_type": "code",
   "execution_count": 50,
   "metadata": {},
   "outputs": [
    {
     "data": {
      "image/png": "[encoded data removed]",
      "text/plain": [
       "<Figure size 432x288 with 1 Axes>"
      ]
     },
     "metadata": {
      "needs_background": "light"
     },
     "output_type": "display_data"
    }
   ],
   "source": [
    "# Plot histograms to compare distribution of actual outcomes vs. prediction \n",
    "def plot_histogram_comp(x,y):\n",
    "    plt.hist(x, alpha=0.5, edgecolor='black', label='Actual')\n",
    "    plt.hist(y, alpha=0.5, edgecolor='black', label='Prediction')\n",
    "    plt.title(\"Histogram of actual outcomes v.s predicted outcomes\")\n",
    "    plt.xlabel(\"Value\")\n",
    "    plt.ylabel(\"Frequency\")\n",
    "    plt.legend(loc='upper left')\n",
    "    plt.show()\n",
    "# Check to see if distribution of actual target values is close to the distribution\n",
    "# of predicted target values\n",
    "plot_histogram_comp(y,y_test)"
   ]
  },
  {
   "cell_type": "markdown",
   "metadata": {},
   "source": [
    "\n",
    "\n",
    "**The government wants to know what are the most important features for your model.  Can you tell them?**\n",
    "\n",
    "> #### Task:\n",
    "- **Visualize the top 13 features and their feature importance.**\n",
    "\n",
    "\n"
   ]
  },
  {
   "cell_type": "code",
   "execution_count": 51,
   "metadata": {},
   "outputs": [
    {
     "data": {
      "image/png": "[encoded data removed]",
      "text/plain": [
       "<Figure size 504x288 with 1 Axes>"
      ]
     },
     "metadata": {
      "needs_background": "light"
     },
     "output_type": "display_data"
    }
   ],
   "source": [
    "# Extract feature importance determined by RF model\n",
    "feature_imp = pd.Series(rf.feature_importances_, index=X.columns)\n",
    "feature_imp.sort_values(ascending=True, inplace=True)\n",
    "\n",
    "# Creating a bar plot\n",
    "feature_imp.plot(kind='barh', width=0.8, figsize=(7,4));"
   ]
  },
  {
   "cell_type": "markdown",
   "metadata": {},
   "source": [
    "> #### Task:\n",
    "- **Submit the predictions on the test dataset using your optimized model** <br/>\n",
    "    For each record in the test set (`Test.csv`), you must predict the value of the `life_expectancy` variable. You should submit a CSV file with a header row and one row per test entry. The file (submissions.csv) should have exactly 2 columns:\n",
    "\n",
    "The file (`submissions.csv`) should have exactly 2 columns:\n",
    "   - **id**\n",
    "   - **life_expectancy**"
   ]
  },
  {
   "cell_type": "code",
   "execution_count": 52,
   "metadata": {},
   "outputs": [
    {
     "data": {
      "text/html": [
       "<div>\n",
       "<style scoped>\n",
       "    .dataframe tbody tr th:only-of-type {\n",
       "        vertical-align: middle;\n",
       "    }\n",
       "\n",
       "    .dataframe tbody tr th {\n",
       "        vertical-align: top;\n",
       "    }\n",
       "\n",
       "    .dataframe thead th {\n",
       "        text-align: right;\n",
       "    }\n",
       "</style>\n",
       "<table border=\"1\" class=\"dataframe\">\n",
       "  <thead>\n",
       "    <tr style=\"text-align: right;\">\n",
       "      <th></th>\n",
       "      <th>id</th>\n",
       "      <th>life_expectancy</th>\n",
       "    </tr>\n",
       "  </thead>\n",
       "  <tbody>\n",
       "    <tr>\n",
       "      <th>0</th>\n",
       "      <td>9</td>\n",
       "      <td>60.955212</td>\n",
       "    </tr>\n",
       "    <tr>\n",
       "      <th>1</th>\n",
       "      <td>16</td>\n",
       "      <td>72.362695</td>\n",
       "    </tr>\n",
       "    <tr>\n",
       "      <th>2</th>\n",
       "      <td>19</td>\n",
       "      <td>77.452001</td>\n",
       "    </tr>\n",
       "    <tr>\n",
       "      <th>3</th>\n",
       "      <td>23</td>\n",
       "      <td>70.139868</td>\n",
       "    </tr>\n",
       "    <tr>\n",
       "      <th>4</th>\n",
       "      <td>28</td>\n",
       "      <td>73.994806</td>\n",
       "    </tr>\n",
       "    <tr>\n",
       "      <th>...</th>\n",
       "      <td>...</td>\n",
       "      <td>...</td>\n",
       "    </tr>\n",
       "    <tr>\n",
       "      <th>95</th>\n",
       "      <td>433</td>\n",
       "      <td>56.254268</td>\n",
       "    </tr>\n",
       "    <tr>\n",
       "      <th>96</th>\n",
       "      <td>441</td>\n",
       "      <td>77.127361</td>\n",
       "    </tr>\n",
       "    <tr>\n",
       "      <th>97</th>\n",
       "      <td>443</td>\n",
       "      <td>71.208266</td>\n",
       "    </tr>\n",
       "    <tr>\n",
       "      <th>98</th>\n",
       "      <td>453</td>\n",
       "      <td>68.558294</td>\n",
       "    </tr>\n",
       "    <tr>\n",
       "      <th>99</th>\n",
       "      <td>455</td>\n",
       "      <td>65.302176</td>\n",
       "    </tr>\n",
       "  </tbody>\n",
       "</table>\n",
       "<p>100 rows × 2 columns</p>\n",
       "</div>"
      ],
      "text/plain": [
       "     id  life_expectancy\n",
       "0     9        60.955212\n",
       "1    16        72.362695\n",
       "2    19        77.452001\n",
       "3    23        70.139868\n",
       "4    28        73.994806\n",
       "..  ...              ...\n",
       "95  433        56.254268\n",
       "96  441        77.127361\n",
       "97  443        71.208266\n",
       "98  453        68.558294\n",
       "99  455        65.302176\n",
       "\n",
       "[100 rows x 2 columns]"
      ]
     },
     "execution_count": 52,
     "metadata": {},
     "output_type": "execute_result"
    }
   ],
   "source": [
    "# Create a submission_df\n",
    "d = {'id': test_data.index, 'life_expectancy': y_test}\n",
    "submission_df = pd.DataFrame(data=d)\n",
    "submission_df"
   ]
  },
  {
   "cell_type": "code",
   "execution_count": 53,
   "metadata": {},
   "outputs": [],
   "source": [
    "#Submission\n",
    "submission_df.to_csv('submissions.csv',index=False)"
   ]
  },
  {
   "cell_type": "code",
   "execution_count": null,
   "metadata": {},
   "outputs": [],
   "source": []
  },
  {
   "cell_type": "markdown",
   "metadata": {},
   "source": [
    "## Grid Searching Random Forest"
   ]
  },
  {
   "cell_type": "code",
   "execution_count": 54,
   "metadata": {},
   "outputs": [],
   "source": [
    "X_train, X_test, Y_train, Y_test= train_test_split(X, y,test_size=0.25, random_state = 42)"
   ]
  },
  {
   "cell_type": "code",
   "execution_count": 55,
   "metadata": {},
   "outputs": [
    {
     "name": "stdout",
     "output_type": "stream",
     "text": [
      "Training Features Shape: (271, 13)\n",
      "Training Target Shape: (271,)\n",
      "Testing Features Shape: (91, 13)\n",
      "Testing Target Shape: (91,)\n"
     ]
    }
   ],
   "source": [
    "print('Training Features Shape:', X_train.shape)\n",
    "print('Training Target Shape:', Y_train.shape)\n",
    "print('Testing Features Shape:', X_test.shape)\n",
    "print('Testing Target Shape:', Y_test.shape)"
   ]
  },
  {
   "cell_type": "code",
   "execution_count": 56,
   "metadata": {},
   "outputs": [
    {
     "name": "stdout",
     "output_type": "stream",
     "text": [
      "Parameters currently in use:\n",
      "\n"
     ]
    },
    {
     "ename": "NameError",
     "evalue": "name 'pprint' is not defined",
     "output_type": "error",
     "traceback": [
      "\u001b[0;31m---------------------------------------------------------------------------\u001b[0m",
      "\u001b[0;31mNameError\u001b[0m                                 Traceback (most recent call last)",
      "\u001b[0;32m/var/folders/kt/f1s29bdd133f08ty3p52plgm0000gn/T/ipykernel_15138/3433792143.py\u001b[0m in \u001b[0;36m<module>\u001b[0;34m\u001b[0m\n\u001b[1;32m      3\u001b[0m \u001b[0;31m# Look at parameters used by our current forest\u001b[0m\u001b[0;34m\u001b[0m\u001b[0;34m\u001b[0m\u001b[0;34m\u001b[0m\u001b[0m\n\u001b[1;32m      4\u001b[0m \u001b[0mprint\u001b[0m\u001b[0;34m(\u001b[0m\u001b[0;34m'Parameters currently in use:\\n'\u001b[0m\u001b[0;34m)\u001b[0m\u001b[0;34m\u001b[0m\u001b[0;34m\u001b[0m\u001b[0m\n\u001b[0;32m----> 5\u001b[0;31m \u001b[0mpprint\u001b[0m\u001b[0;34m(\u001b[0m\u001b[0mrf\u001b[0m\u001b[0;34m.\u001b[0m\u001b[0mget_params\u001b[0m\u001b[0;34m(\u001b[0m\u001b[0;34m)\u001b[0m\u001b[0;34m)\u001b[0m\u001b[0;34m\u001b[0m\u001b[0;34m\u001b[0m\u001b[0m\n\u001b[0m",
      "\u001b[0;31mNameError\u001b[0m: name 'pprint' is not defined"
     ]
    }
   ],
   "source": [
    "rf = RandomForestRegressor(random_state = 42)\n",
    "\n",
    "# Look at parameters used by our current forest\n",
    "print('Parameters currently in use:\\n')\n",
    "pprint(rf.get_params())"
   ]
  },
  {
   "cell_type": "code",
   "execution_count": null,
   "metadata": {},
   "outputs": [],
   "source": []
  }
 ],
 "metadata": {
  "kernelspec": {
   "display_name": "Python 3 (ipykernel)",
   "language": "python",
   "name": "python3"
  },
  "language_info": {
   "codemirror_mode": {
    "name": "ipython",
    "version": 3
   },
   "file_extension": ".py",
   "mimetype": "text/x-python",
   "name": "python",
   "nbconvert_exporter": "python",
   "pygments_lexer": "ipython3",
   "version": "3.9.6"
  }
 },
 "nbformat": 4,
 "nbformat_minor": 2
}
